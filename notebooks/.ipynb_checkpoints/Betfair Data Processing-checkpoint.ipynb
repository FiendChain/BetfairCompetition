{
 "cells": [
  {
   "cell_type": "code",
   "execution_count": 4,
   "metadata": {},
   "outputs": [
    {
     "name": "stdout",
     "output_type": "stream",
     "text": [
      "Populating the interactive namespace from numpy and matplotlib\n"
     ]
    }
   ],
   "source": [
    "%pylab inline\n",
    "import csv\n",
    "import os\n",
    "\n",
    "CSV_PATH = '../resources/raw_data/'"
   ]
  },
  {
   "cell_type": "code",
   "execution_count": 25,
   "metadata": {},
   "outputs": [],
   "source": [
    "def fetch_data_files(folder):\n",
    "    for file in os.listdir(folder):\n",
    "        filepath = os.path.join(folder, file)\n",
    "        if os.path.isfile(filepath):\n",
    "            yield filepath\n",
    "files = list(fetch_data_files(CSV_PATH))\n",
    "csv_files = [file for file in files if file.endswith('.csv')]"
   ]
  },
  {
   "cell_type": "code",
   "execution_count": 27,
   "metadata": {},
   "outputs": [
    {
     "data": {
      "text/plain": [
       "['../resources/raw_data/ATP_matches.csv',\n",
       " '../resources/raw_data/aus_open_men_match_odds.csv',\n",
       " '../resources/raw_data/aus_open_men_tournament_odds.csv',\n",
       " '../resources/raw_data/aus_open_women_match_odds.csv',\n",
       " '../resources/raw_data/aus_open_women_tournament_odds.csv',\n",
       " '../resources/raw_data/men_dummy_submission_file.csv',\n",
       " '../resources/raw_data/women_dummy_submission_file.csv',\n",
       " '../resources/raw_data/WTA_matches.csv']"
      ]
     },
     "execution_count": 27,
     "metadata": {},
     "output_type": "execute_result"
    }
   ],
   "source": [
    "csv_files"
   ]
  },
  {
   "cell_type": "code",
   "execution_count": 19,
   "metadata": {},
   "outputs": [],
   "source": [
    "def convert_csv_to_array(filepath, **kwargs):\n",
    "    if not filepath.endswith('.csv'):\n",
    "        print('Warning, opening non csv file as csv file')\n",
    "    with open(filepath) as csv_file:\n",
    "        csv_reader = csv.reader(csv_file, **kwargs)\n",
    "        return [row for row in csv_reader]"
   ]
  },
  {
   "cell_type": "code",
   "execution_count": 28,
   "metadata": {},
   "outputs": [
    {
     "name": "stdout",
     "output_type": "stream",
     "text": [
      "../resources/raw_data/ATP_matches.csv: 20808\n",
      "../resources/raw_data/aus_open_men_match_odds.csv: 884\n",
      "../resources/raw_data/aus_open_men_tournament_odds.csv: 560\n",
      "../resources/raw_data/aus_open_women_match_odds.csv: 894\n",
      "../resources/raw_data/aus_open_women_tournament_odds.csv: 497\n",
      "../resources/raw_data/men_dummy_submission_file.csv: 16257\n",
      "../resources/raw_data/women_dummy_submission_file.csv: 16257\n",
      "../resources/raw_data/WTA_matches.csv: 13907\n"
     ]
    }
   ],
   "source": [
    "# length of each csv file\n",
    "for file in csv_files:\n",
    "    data = convert_csv_to_array(file)\n",
    "    print('{}: {}'.format(file, len(data)))"
   ]
  }
 ],
 "metadata": {
  "kernelspec": {
   "display_name": "Python 3",
   "language": "python",
   "name": "python3"
  },
  "language_info": {
   "codemirror_mode": {
    "name": "ipython",
    "version": 3
   },
   "file_extension": ".py",
   "mimetype": "text/x-python",
   "name": "python",
   "nbconvert_exporter": "python",
   "pygments_lexer": "ipython3",
   "version": "3.5.6"
  }
 },
 "nbformat": 4,
 "nbformat_minor": 2
}
